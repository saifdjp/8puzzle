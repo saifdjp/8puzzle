{
 "cells": [
  {
   "cell_type": "code",
   "execution_count": 1,
   "metadata": {
    "ExecuteTime": {
     "end_time": "2019-03-22T10:53:27.796701Z",
     "start_time": "2019-03-22T10:53:27.656574Z"
    }
   },
   "outputs": [],
   "source": [
    "import numpy as np"
   ]
  },
  {
   "cell_type": "code",
   "execution_count": 2,
   "metadata": {
    "ExecuteTime": {
     "end_time": "2019-03-22T10:53:27.809628Z",
     "start_time": "2019-03-22T10:53:27.801285Z"
    }
   },
   "outputs": [],
   "source": [
    "actualPos = [(1,1),(1,2),(1,3),(2,1),(2,2),(2,3),(3,1),(3,2),(3,3)]"
   ]
  },
  {
   "cell_type": "code",
   "execution_count": null,
   "metadata": {},
   "outputs": [],
   "source": []
  },
  {
   "cell_type": "code",
   "execution_count": 3,
   "metadata": {
    "ExecuteTime": {
     "end_time": "2019-03-22T10:53:27.838065Z",
     "start_time": "2019-03-22T10:53:27.820573Z"
    }
   },
   "outputs": [],
   "source": [
    "class state:\n",
    "    \n",
    "    heuristics = 0 #h\n",
    "    actual_cost = 0 #g\n",
    "    cost = 0\n",
    "    #parent= None\n",
    "    \n",
    "    \n",
    "    def man(self,x1,y1,x2,y2):\n",
    "        return abs(x1-x2)+abs(y1-y2)\n",
    "    \n",
    "    \n",
    "    \n",
    "    def __init__(self,sInfo,P ):\n",
    "        self.state_info = sInfo\n",
    "        print(self.state_info)\n",
    "        self.parent = P\n",
    "        \n",
    "        \n",
    "    def prepair(self):\n",
    "        self.heuristics = self.calculate_H()\n",
    "        \n",
    "        if self.parent == 0:\n",
    "            self.actual_cost = 0\n",
    "            self.cost = self.actual_cost + self.heuristics\n",
    "        else:\n",
    "            self.actual_cost = self.parent.actual_cost + 1\n",
    "            self.cost = self.parent.actual_cost + 1 + self.heuristics\n",
    "    #-----------------------------------------------------------------Goal Test -----------------------------\n",
    "    def checkGoal(self):\n",
    "        if self.heuristic_cost == 0 :\n",
    "            return True\n",
    "        \n",
    "    #------------------------------------------------------------------Manhatten Distance -------------------    \n",
    "    def calculate_H(self):\n",
    "        cost = 0\n",
    "        for i in range(1,4):\n",
    "            for j in range(1,4):\n",
    "                #print(i,j)\n",
    "                current_staied = self.state_info[i][j]\n",
    "                #print(current_staied)\n",
    "                current_staied -= 1\n",
    "                if(current_staied) == -1: continue\n",
    "                temp = actualPos[current_staied]\n",
    "                cost+= self.man(i,j,temp[0],temp[1])\n",
    "                #print(cost, str(current_staied))\n",
    "        return cost\n",
    "    \n",
    "    \n",
    "    #It expand the childs\n",
    "    def expand(self):\n",
    "        return cost\n",
    "    "
   ]
  },
  {
   "cell_type": "code",
   "execution_count": 4,
   "metadata": {
    "ExecuteTime": {
     "end_time": "2019-03-22T10:53:27.858950Z",
     "start_time": "2019-03-22T10:53:27.851295Z"
    }
   },
   "outputs": [],
   "source": [
    "source = np.array([\n",
    "    [0,0,0,0,0],\n",
    "    [0,1,2,3,0],\n",
    "    [0,4,5,0,0],\n",
    "    [0,7,6,8,0],\n",
    "    [0,0,0,0,0]\n",
    "])"
   ]
  },
  {
   "cell_type": "code",
   "execution_count": 5,
   "metadata": {
    "ExecuteTime": {
     "end_time": "2019-03-22T10:53:27.869883Z",
     "start_time": "2019-03-22T10:53:27.864377Z"
    }
   },
   "outputs": [
    {
     "name": "stdout",
     "output_type": "stream",
     "text": [
      "[[0 0 0 0 0]\n",
      " [0 1 2 3 0]\n",
      " [0 4 5 0 0]\n",
      " [0 7 6 8 0]\n",
      " [0 0 0 0 0]]\n"
     ]
    }
   ],
   "source": [
    "temp= state(source,source)"
   ]
  },
  {
   "cell_type": "code",
   "execution_count": 6,
   "metadata": {
    "ExecuteTime": {
     "end_time": "2019-03-22T10:53:27.880989Z",
     "start_time": "2019-03-22T10:53:27.875333Z"
    }
   },
   "outputs": [
    {
     "name": "stdout",
     "output_type": "stream",
     "text": [
      "[[0 0 0 0 0]\n",
      " [0 1 2 3 0]\n",
      " [0 4 5 0 0]\n",
      " [0 7 6 8 0]\n",
      " [0 0 0 0 0]]\n"
     ]
    }
   ],
   "source": [
    "#A = state(source,temp)\n",
    "A = state(source, 0)"
   ]
  },
  {
   "cell_type": "code",
   "execution_count": null,
   "metadata": {
    "ExecuteTime": {
     "end_time": "2019-03-18T18:38:09.441959Z",
     "start_time": "2019-03-18T18:38:09.421479Z"
    }
   },
   "outputs": [],
   "source": []
  },
  {
   "cell_type": "code",
   "execution_count": 7,
   "metadata": {
    "ExecuteTime": {
     "end_time": "2019-03-22T10:53:27.901025Z",
     "start_time": "2019-03-22T10:53:27.884677Z"
    }
   },
   "outputs": [
    {
     "data": {
      "text/plain": [
       "0"
      ]
     },
     "execution_count": 7,
     "metadata": {},
     "output_type": "execute_result"
    }
   ],
   "source": [
    "A.heuristics"
   ]
  },
  {
   "cell_type": "code",
   "execution_count": 8,
   "metadata": {
    "ExecuteTime": {
     "end_time": "2019-03-22T10:53:27.906259Z",
     "start_time": "2019-03-22T10:53:27.903729Z"
    }
   },
   "outputs": [],
   "source": [
    "A.prepair()"
   ]
  },
  {
   "cell_type": "code",
   "execution_count": 9,
   "metadata": {
    "ExecuteTime": {
     "end_time": "2019-03-22T10:53:27.912752Z",
     "start_time": "2019-03-22T10:53:27.908174Z"
    }
   },
   "outputs": [
    {
     "data": {
      "text/plain": [
       "array([[0, 0, 0, 0, 0],\n",
       "       [0, 1, 2, 3, 0],\n",
       "       [0, 4, 5, 0, 0],\n",
       "       [0, 7, 6, 8, 0],\n",
       "       [0, 0, 0, 0, 0]])"
      ]
     },
     "execution_count": 9,
     "metadata": {},
     "output_type": "execute_result"
    }
   ],
   "source": [
    "A.state_info"
   ]
  },
  {
   "cell_type": "code",
   "execution_count": 10,
   "metadata": {
    "ExecuteTime": {
     "end_time": "2019-03-22T10:53:27.919414Z",
     "start_time": "2019-03-22T10:53:27.914758Z"
    }
   },
   "outputs": [
    {
     "data": {
      "text/plain": [
       "3"
      ]
     },
     "execution_count": 10,
     "metadata": {},
     "output_type": "execute_result"
    }
   ],
   "source": [
    "A.cost"
   ]
  },
  {
   "cell_type": "code",
   "execution_count": null,
   "metadata": {
    "ExecuteTime": {
     "end_time": "2019-03-18T18:42:32.896195Z",
     "start_time": "2019-03-18T18:42:32.892995Z"
    }
   },
   "outputs": [],
   "source": []
  },
  {
   "cell_type": "code",
   "execution_count": 11,
   "metadata": {
    "ExecuteTime": {
     "end_time": "2019-03-22T10:53:27.926299Z",
     "start_time": "2019-03-22T10:53:27.921964Z"
    }
   },
   "outputs": [
    {
     "data": {
      "text/plain": [
       "0"
      ]
     },
     "execution_count": 11,
     "metadata": {},
     "output_type": "execute_result"
    }
   ],
   "source": [
    "A.actual_cost"
   ]
  },
  {
   "cell_type": "code",
   "execution_count": 12,
   "metadata": {
    "ExecuteTime": {
     "end_time": "2019-03-22T10:53:27.932325Z",
     "start_time": "2019-03-22T10:53:27.928226Z"
    }
   },
   "outputs": [
    {
     "data": {
      "text/plain": [
       "3"
      ]
     },
     "execution_count": 12,
     "metadata": {},
     "output_type": "execute_result"
    }
   ],
   "source": [
    "A.heuristics"
   ]
  },
  {
   "cell_type": "code",
   "execution_count": 13,
   "metadata": {
    "ExecuteTime": {
     "end_time": "2019-03-22T10:53:27.938342Z",
     "start_time": "2019-03-22T10:53:27.934285Z"
    }
   },
   "outputs": [
    {
     "data": {
      "text/plain": [
       "3"
      ]
     },
     "execution_count": 13,
     "metadata": {},
     "output_type": "execute_result"
    }
   ],
   "source": [
    "A.calculate_H()"
   ]
  },
  {
   "cell_type": "code",
   "execution_count": null,
   "metadata": {},
   "outputs": [],
   "source": []
  }
 ],
 "metadata": {
  "kernelspec": {
   "display_name": "Python 3",
   "language": "python",
   "name": "python3"
  },
  "language_info": {
   "codemirror_mode": {
    "name": "ipython",
    "version": 3
   },
   "file_extension": ".py",
   "mimetype": "text/x-python",
   "name": "python",
   "nbconvert_exporter": "python",
   "pygments_lexer": "ipython3",
   "version": "3.6.7"
  },
  "toc": {
   "base_numbering": 1,
   "nav_menu": {},
   "number_sections": true,
   "sideBar": true,
   "skip_h1_title": false,
   "title_cell": "Table of Contents",
   "title_sidebar": "Contents",
   "toc_cell": false,
   "toc_position": {},
   "toc_section_display": true,
   "toc_window_display": false
  },
  "varInspector": {
   "cols": {
    "lenName": 16,
    "lenType": 16,
    "lenVar": 40
   },
   "kernels_config": {
    "python": {
     "delete_cmd_postfix": "",
     "delete_cmd_prefix": "del ",
     "library": "var_list.py",
     "varRefreshCmd": "print(var_dic_list())"
    },
    "r": {
     "delete_cmd_postfix": ") ",
     "delete_cmd_prefix": "rm(",
     "library": "var_list.r",
     "varRefreshCmd": "cat(var_dic_list()) "
    }
   },
   "types_to_exclude": [
    "module",
    "function",
    "builtin_function_or_method",
    "instance",
    "_Feature"
   ],
   "window_display": false
  }
 },
 "nbformat": 4,
 "nbformat_minor": 2
}
