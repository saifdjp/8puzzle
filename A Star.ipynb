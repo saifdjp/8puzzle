{
 "cells": [
  {
   "cell_type": "code",
   "execution_count": 1,
   "metadata": {
    "ExecuteTime": {
     "end_time": "2019-03-22T11:43:59.813313Z",
     "start_time": "2019-03-22T11:43:59.595961Z"
    }
   },
   "outputs": [],
   "source": [
    "import numpy as np"
   ]
  },
  {
   "cell_type": "code",
   "execution_count": 2,
   "metadata": {
    "ExecuteTime": {
     "end_time": "2019-03-22T11:43:59.827420Z",
     "start_time": "2019-03-22T11:43:59.817651Z"
    }
   },
   "outputs": [],
   "source": [
    "#This contains the actual positin the digits should have been placed..\n",
    "#THis list will be used in Heuristic Calculation\n",
    "actualPos = [(1,1),(1,2),(1,3),(2,1),(2,2),(2,3),(3,1),(3,2),(3,3)]"
   ]
  },
  {
   "cell_type": "code",
   "execution_count": 3,
   "metadata": {
    "ExecuteTime": {
     "end_time": "2019-03-22T11:43:59.834895Z",
     "start_time": "2019-03-22T11:43:59.830860Z"
    }
   },
   "outputs": [],
   "source": [
    "visited_states = set()"
   ]
  },
  {
   "cell_type": "code",
   "execution_count": 4,
   "metadata": {
    "ExecuteTime": {
     "end_time": "2019-03-22T11:43:59.844827Z",
     "start_time": "2019-03-22T11:43:59.840758Z"
    }
   },
   "outputs": [],
   "source": [
    "ALL_STATES = list()"
   ]
  },
  {
   "cell_type": "code",
   "execution_count": 5,
   "metadata": {
    "ExecuteTime": {
     "end_time": "2019-03-22T11:43:59.893387Z",
     "start_time": "2019-03-22T11:43:59.850224Z"
    }
   },
   "outputs": [],
   "source": [
    "class state:\n",
    "    \n",
    "    heuristics = 0 #h\n",
    "    actual_cost = 0 #g\n",
    "    cost = 0\n",
    "    #parent= None\n",
    "    \n",
    "    \n",
    "    def man(self,x1,y1,x2,y2):\n",
    "        return abs(x1-x2)+abs(y1-y2)\n",
    "    \n",
    "    \n",
    "    \n",
    "    def __init__(self,sInfo,P ):\n",
    "        self.state_info = sInfo\n",
    "        #print(self.state_info)\n",
    "        self.parent = P\n",
    "        \n",
    "        \n",
    "    def prepair(self):\n",
    "        self.heuristics = self.calculate_H()\n",
    "        \n",
    "        if self.parent == 0:\n",
    "            self.actual_cost = 0\n",
    "            self.cost = self.actual_cost + self.heuristics\n",
    "        else:\n",
    "            self.actual_cost = self.parent.actual_cost + 1\n",
    "            self.cost = self.parent.actual_cost + 1 + self.heuristics\n",
    "    #-----------------------------------------------------------------Goal Test -----------------------------\n",
    "    def checkGoal(self):\n",
    "        if self.heuristic_cost == 0 :\n",
    "            return True\n",
    "        \n",
    "    #------------------------------------------------------------------Manhatten Distance -------------------    \n",
    "    def calculate_H(self):\n",
    "        cost = 0\n",
    "        for i in range(1,4):\n",
    "            for j in range(1,4):\n",
    "                #print(i,j)\n",
    "                current_staied = self.state_info[i][j]\n",
    "                #print(current_staied)\n",
    "                current_staied -= 1\n",
    "                if(current_staied) == -2: continue\n",
    "                temp = actualPos[current_staied]\n",
    "                cost+= self.man(i,j,temp[0],temp[1])\n",
    "                #print(cost, str(current_staied))\n",
    "        return cost\n",
    "    \n",
    "    \n",
    "    #It expand the childs\n",
    "    def expand(self):\n",
    "        pos_x = int()\n",
    "        pos_y = int()\n",
    "        for i in range(1,4):\n",
    "            for j in range(1,4):\n",
    "                if(self.state_info[i][j]== -1):\n",
    "                    pos_x = i\n",
    "                    pos_y = j\n",
    "        \n",
    "        if(self.state_info[pos_x-1][pos_y]!=0):   #UP\n",
    "            temp = self.state_info.copy()\n",
    "            \n",
    "            temp[pos_x][pos_y],temp[pos_x-1][pos_y]  =   temp[pos_x-1][pos_y], temp[pos_x][pos_y]  \n",
    "            \n",
    "            if (str(temp) in visited_states) == False:\n",
    "                TEMP = state(temp,self)\n",
    "                TEMP.prepair()\n",
    "                visited_states.add(str(temp))\n",
    "                ALL_STATES.append(TEMP)\n",
    "            #print(temp)\n",
    "            \n",
    "            \n",
    "        if(self.state_info[pos_x+1][pos_y]!=0):   #DOWN\n",
    "            temp = self.state_info.copy()\n",
    "            \n",
    "            temp[pos_x][pos_y],temp[pos_x+1][pos_y]  =   temp[pos_x+1][pos_y], temp[pos_x][pos_y]  \n",
    "            \n",
    "            if (str(temp) in visited_states) == False:\n",
    "                TEMP = state(temp,self)\n",
    "                TEMP.prepair()\n",
    "                visited_states.add(str(temp))\n",
    "                ALL_STATES.append(TEMP)\n",
    "            \n",
    "        if(self.state_info[pos_x][pos_y+1]!=0):   #Right\n",
    "            temp = self.state_info.copy()\n",
    "            \n",
    "            temp[pos_x][pos_y],temp[pos_x][pos_y+1]  =   temp[pos_x][pos_y+1], temp[pos_x][pos_y]  \n",
    "            \n",
    "            if (str(temp) in visited_states) == False:\n",
    "                TEMP = state(temp,self)\n",
    "                TEMP.prepair()\n",
    "                visited_states.add(str(temp))\n",
    "                ALL_STATES.append(TEMP)\n",
    "            \n",
    "        if(self.state_info[pos_x][pos_y-1]!=0):   #Left\n",
    "            temp = self.state_info.copy()\n",
    "            \n",
    "            temp[pos_x][pos_y],temp[pos_x][pos_y-1]  =   temp[pos_x][pos_y-1], temp[pos_x][pos_y]  \n",
    "            \n",
    "            if (str(temp) in visited_states) == False:\n",
    "                TEMP = state(temp,self)\n",
    "                TEMP.prepair()\n",
    "                visited_states.add(str(temp))\n",
    "                ALL_STATES.append(TEMP)\n",
    "        \n",
    "        #print(temp)\n",
    "    "
   ]
  },
  {
   "cell_type": "code",
   "execution_count": 6,
   "metadata": {
    "ExecuteTime": {
     "end_time": "2019-03-22T11:43:59.903681Z",
     "start_time": "2019-03-22T11:43:59.897392Z"
    }
   },
   "outputs": [],
   "source": [
    "source = np.array([\n",
    "    [0,0,0,0,0],\n",
    "    [0,1,2,3,0],\n",
    "    [0,4,5,-1,0],\n",
    "    [0,7,6,8,0],\n",
    "    [0,0,0,0,0]\n",
    "])"
   ]
  },
  {
   "cell_type": "code",
   "execution_count": 7,
   "metadata": {
    "ExecuteTime": {
     "end_time": "2019-03-22T11:43:59.915205Z",
     "start_time": "2019-03-22T11:43:59.911181Z"
    }
   },
   "outputs": [],
   "source": [
    "#temp= state(source,source)"
   ]
  },
  {
   "cell_type": "code",
   "execution_count": 8,
   "metadata": {
    "ExecuteTime": {
     "end_time": "2019-03-22T11:43:59.926938Z",
     "start_time": "2019-03-22T11:43:59.919486Z"
    }
   },
   "outputs": [],
   "source": [
    "#A = state(source,temp)\n",
    "A = state(source, 0)\n"
   ]
  },
  {
   "cell_type": "code",
   "execution_count": 9,
   "metadata": {
    "ExecuteTime": {
     "end_time": "2019-03-22T11:43:59.936969Z",
     "start_time": "2019-03-22T11:43:59.932361Z"
    }
   },
   "outputs": [],
   "source": [
    "A.prepair()\n",
    "ALL_STATES.append(A)"
   ]
  },
  {
   "cell_type": "code",
   "execution_count": 10,
   "metadata": {
    "ExecuteTime": {
     "end_time": "2019-03-22T11:43:59.962563Z",
     "start_time": "2019-03-22T11:43:59.941502Z"
    },
    "scrolled": false
   },
   "outputs": [
    {
     "data": {
      "text/plain": [
       "array([[ 0,  0,  0,  0,  0],\n",
       "       [ 0,  1,  2,  3,  0],\n",
       "       [ 0,  4,  5, -1,  0],\n",
       "       [ 0,  7,  6,  8,  0],\n",
       "       [ 0,  0,  0,  0,  0]])"
      ]
     },
     "execution_count": 10,
     "metadata": {},
     "output_type": "execute_result"
    }
   ],
   "source": [
    "A.state_info"
   ]
  },
  {
   "cell_type": "code",
   "execution_count": 11,
   "metadata": {
    "ExecuteTime": {
     "end_time": "2019-03-22T11:43:59.971442Z",
     "start_time": "2019-03-22T11:43:59.966752Z"
    }
   },
   "outputs": [],
   "source": [
    "visited_states.add(str(source))"
   ]
  },
  {
   "cell_type": "code",
   "execution_count": null,
   "metadata": {
    "ExecuteTime": {
     "end_time": "2019-03-22T11:10:07.735609Z",
     "start_time": "2019-03-22T11:10:07.720285Z"
    }
   },
   "outputs": [],
   "source": []
  },
  {
   "cell_type": "code",
   "execution_count": 12,
   "metadata": {
    "ExecuteTime": {
     "end_time": "2019-03-22T11:43:59.980993Z",
     "start_time": "2019-03-22T11:43:59.975210Z"
    }
   },
   "outputs": [
    {
     "data": {
      "text/plain": [
       "{'[[ 0  0  0  0  0]\\n [ 0  1  2  3  0]\\n [ 0  4  5 -1  0]\\n [ 0  7  6  8  0]\\n [ 0  0  0  0  0]]'}"
      ]
     },
     "execution_count": 12,
     "metadata": {},
     "output_type": "execute_result"
    }
   ],
   "source": [
    "visited_states"
   ]
  },
  {
   "cell_type": "code",
   "execution_count": 13,
   "metadata": {
    "ExecuteTime": {
     "end_time": "2019-03-22T11:43:59.990196Z",
     "start_time": "2019-03-22T11:43:59.984667Z"
    }
   },
   "outputs": [
    {
     "data": {
      "text/plain": [
       "3"
      ]
     },
     "execution_count": 13,
     "metadata": {},
     "output_type": "execute_result"
    }
   ],
   "source": [
    "A.heuristics"
   ]
  },
  {
   "cell_type": "code",
   "execution_count": 14,
   "metadata": {
    "ExecuteTime": {
     "end_time": "2019-03-22T11:43:59.999514Z",
     "start_time": "2019-03-22T11:43:59.993790Z"
    }
   },
   "outputs": [],
   "source": [
    "A.expand()"
   ]
  },
  {
   "cell_type": "code",
   "execution_count": 15,
   "metadata": {
    "ExecuteTime": {
     "end_time": "2019-03-22T11:44:00.009583Z",
     "start_time": "2019-03-22T11:44:00.003101Z"
    }
   },
   "outputs": [
    {
     "data": {
      "text/plain": [
       "[<__main__.state at 0x7fb38f5b6f98>,\n",
       " <__main__.state at 0x7fb3b45b3b70>,\n",
       " <__main__.state at 0x7fb38f569438>,\n",
       " <__main__.state at 0x7fb38f569550>]"
      ]
     },
     "execution_count": 15,
     "metadata": {},
     "output_type": "execute_result"
    }
   ],
   "source": [
    "ALL_STATES"
   ]
  },
  {
   "cell_type": "code",
   "execution_count": null,
   "metadata": {},
   "outputs": [],
   "source": []
  }
 ],
 "metadata": {
  "kernelspec": {
   "display_name": "Python 3",
   "language": "python",
   "name": "python3"
  },
  "language_info": {
   "codemirror_mode": {
    "name": "ipython",
    "version": 3
   },
   "file_extension": ".py",
   "mimetype": "text/x-python",
   "name": "python",
   "nbconvert_exporter": "python",
   "pygments_lexer": "ipython3",
   "version": "3.6.7"
  },
  "toc": {
   "base_numbering": 1,
   "nav_menu": {},
   "number_sections": true,
   "sideBar": true,
   "skip_h1_title": false,
   "title_cell": "Table of Contents",
   "title_sidebar": "Contents",
   "toc_cell": false,
   "toc_position": {},
   "toc_section_display": true,
   "toc_window_display": false
  },
  "varInspector": {
   "cols": {
    "lenName": 16,
    "lenType": 16,
    "lenVar": 40
   },
   "kernels_config": {
    "python": {
     "delete_cmd_postfix": "",
     "delete_cmd_prefix": "del ",
     "library": "var_list.py",
     "varRefreshCmd": "print(var_dic_list())"
    },
    "r": {
     "delete_cmd_postfix": ") ",
     "delete_cmd_prefix": "rm(",
     "library": "var_list.r",
     "varRefreshCmd": "cat(var_dic_list()) "
    }
   },
   "types_to_exclude": [
    "module",
    "function",
    "builtin_function_or_method",
    "instance",
    "_Feature"
   ],
   "window_display": false
  }
 },
 "nbformat": 4,
 "nbformat_minor": 2
}
