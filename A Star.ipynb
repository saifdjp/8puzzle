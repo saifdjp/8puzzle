{
 "cells": [
  {
   "cell_type": "code",
   "execution_count": 26,
   "metadata": {
    "ExecuteTime": {
     "end_time": "2019-03-22T19:14:13.656414Z",
     "start_time": "2019-03-22T19:14:13.648745Z"
    }
   },
   "outputs": [],
   "source": [
    "#https://dgurkaynak.github.io/8-puzzle-solver/\n",
    "\n",
    "#Given Link is used to check the correctibility"
   ]
  },
  {
   "cell_type": "code",
   "execution_count": 25,
   "metadata": {
    "ExecuteTime": {
     "end_time": "2019-03-22T19:13:40.154800Z",
     "start_time": "2019-03-22T19:13:40.151290Z"
    }
   },
   "outputs": [],
   "source": [
    "import numpy as np"
   ]
  },
  {
   "cell_type": "code",
   "execution_count": 2,
   "metadata": {
    "ExecuteTime": {
     "end_time": "2019-03-22T19:08:12.192981Z",
     "start_time": "2019-03-22T19:08:12.179678Z"
    }
   },
   "outputs": [],
   "source": [
    "#This contains the actual positin the digits should have been placed..\n",
    "#THis list will be used in Heuristic Calculation\n",
    "actualPos = [(1,1),(1,2),(1,3),(2,1),(2,2),(2,3),(3,1),(3,2),(3,3)]"
   ]
  },
  {
   "cell_type": "code",
   "execution_count": 3,
   "metadata": {
    "ExecuteTime": {
     "end_time": "2019-03-22T19:08:12.212220Z",
     "start_time": "2019-03-22T19:08:12.201754Z"
    }
   },
   "outputs": [],
   "source": [
    "visited_states = set()"
   ]
  },
  {
   "cell_type": "code",
   "execution_count": 4,
   "metadata": {
    "ExecuteTime": {
     "end_time": "2019-03-22T19:08:12.230860Z",
     "start_time": "2019-03-22T19:08:12.225158Z"
    }
   },
   "outputs": [],
   "source": [
    "done_states = set()"
   ]
  },
  {
   "cell_type": "code",
   "execution_count": 5,
   "metadata": {
    "ExecuteTime": {
     "end_time": "2019-03-22T19:08:12.246073Z",
     "start_time": "2019-03-22T19:08:12.238422Z"
    }
   },
   "outputs": [],
   "source": [
    "ALL_STATES = list()"
   ]
  },
  {
   "cell_type": "code",
   "execution_count": 6,
   "metadata": {
    "ExecuteTime": {
     "end_time": "2019-03-22T19:08:12.292059Z",
     "start_time": "2019-03-22T19:08:12.250547Z"
    }
   },
   "outputs": [],
   "source": [
    "class state:\n",
    "    \n",
    "    heuristics = 0 #h\n",
    "    actual_cost = 0 #g\n",
    "    cost = 0\n",
    "    #parent= None\n",
    "    \n",
    "    \n",
    "    def man(self,x1,y1,x2,y2):\n",
    "        return abs(x1-x2)+abs(y1-y2)\n",
    "    \n",
    "    \n",
    "    \n",
    "    def __init__(self,sInfo,P ):\n",
    "        self.state_info = sInfo\n",
    "        #print(self.state_info)\n",
    "        self.parent = P\n",
    "        \n",
    "        \n",
    "    def prepair(self):\n",
    "        self.heuristics = self.calculate_H()\n",
    "        \n",
    "        if self.parent == 0:\n",
    "            self.actual_cost = 0\n",
    "            self.cost = self.actual_cost + self.heuristics\n",
    "        else:\n",
    "            self.actual_cost = self.parent.actual_cost + 1\n",
    "            self.cost = self.parent.actual_cost + 1 + self.heuristics\n",
    "    #-----------------------------------------------------------------Goal Test -----------------------------\n",
    "    def checkGoal(self):\n",
    "        if self.heuristics == 0 :\n",
    "            return True\n",
    "        return False\n",
    "        \n",
    "    #------------------------------------------------------------------Manhatten Distance -------------------    \n",
    "    def calculate_H(self):\n",
    "        cost = 0\n",
    "        for i in range(1,4):\n",
    "            for j in range(1,4):\n",
    "                #print(i,j)\n",
    "                current_staied = self.state_info[i][j]\n",
    "                #print(current_staied)\n",
    "                current_staied -= 1\n",
    "                if(current_staied) == -2: continue\n",
    "                temp = actualPos[current_staied]\n",
    "                cost+= self.man(i,j,temp[0],temp[1])\n",
    "                #print(cost, str(current_staied))\n",
    "        return cost\n",
    "    \n",
    "    \n",
    "    #It expand the childs\n",
    "    def expand(self):\n",
    "        pos_x = int()\n",
    "        pos_y = int()\n",
    "        for i in range(1,4):\n",
    "            for j in range(1,4):\n",
    "                if(self.state_info[i][j]== -1):\n",
    "                    pos_x = i\n",
    "                    pos_y = j\n",
    "        \n",
    "        if(self.state_info[pos_x-1][pos_y]!=0):   #UP\n",
    "            temp = self.state_info.copy()\n",
    "            \n",
    "            temp[pos_x][pos_y],temp[pos_x-1][pos_y]  =   temp[pos_x-1][pos_y], temp[pos_x][pos_y]  \n",
    "            \n",
    "            if (str(temp) in visited_states) == False:\n",
    "                TEMP = state(temp,self)\n",
    "                TEMP.prepair()\n",
    "                visited_states.add(str(temp))\n",
    "                ALL_STATES.append(TEMP)\n",
    "            #print(temp)\n",
    "            \n",
    "            \n",
    "        if(self.state_info[pos_x+1][pos_y]!=0):   #DOWN\n",
    "            temp = self.state_info.copy()\n",
    "            \n",
    "            temp[pos_x][pos_y],temp[pos_x+1][pos_y]  =   temp[pos_x+1][pos_y], temp[pos_x][pos_y]  \n",
    "            \n",
    "            if (str(temp) in visited_states) == False:\n",
    "                TEMP = state(temp,self)\n",
    "                TEMP.prepair()\n",
    "                visited_states.add(str(temp))\n",
    "                ALL_STATES.append(TEMP)\n",
    "            \n",
    "        if(self.state_info[pos_x][pos_y+1]!=0):   #Right\n",
    "            temp = self.state_info.copy()\n",
    "            \n",
    "            temp[pos_x][pos_y],temp[pos_x][pos_y+1]  =   temp[pos_x][pos_y+1], temp[pos_x][pos_y]  \n",
    "            \n",
    "            if (str(temp) in visited_states) == False:\n",
    "                TEMP = state(temp,self)\n",
    "                TEMP.prepair()\n",
    "                visited_states.add(str(temp))\n",
    "                ALL_STATES.append(TEMP)\n",
    "            \n",
    "        if(self.state_info[pos_x][pos_y-1]!=0):   #Left\n",
    "            temp = self.state_info.copy()\n",
    "            \n",
    "            temp[pos_x][pos_y],temp[pos_x][pos_y-1]  =   temp[pos_x][pos_y-1], temp[pos_x][pos_y]  \n",
    "            \n",
    "            if (str(temp) in visited_states) == False:\n",
    "                TEMP = state(temp,self)\n",
    "                TEMP.prepair()\n",
    "                visited_states.add(str(temp))\n",
    "                ALL_STATES.append(TEMP)\n",
    "        \n",
    "        #print(temp)\n",
    "    "
   ]
  },
  {
   "cell_type": "code",
   "execution_count": 7,
   "metadata": {
    "ExecuteTime": {
     "end_time": "2019-03-22T19:08:12.304068Z",
     "start_time": "2019-03-22T19:08:12.295846Z"
    }
   },
   "outputs": [],
   "source": [
    "source = np.array([\n",
    "    [0,0,0,0,0],\n",
    "    [0,-1,5,3,0],\n",
    "    [0,8,4,1,0],\n",
    "    [0,2,7,6,0],\n",
    "    [0,0,0,0,0]\n",
    "])"
   ]
  },
  {
   "cell_type": "code",
   "execution_count": 9,
   "metadata": {
    "ExecuteTime": {
     "end_time": "2019-03-22T19:08:12.321210Z",
     "start_time": "2019-03-22T19:08:12.316532Z"
    }
   },
   "outputs": [],
   "source": [
    "#A = state(source,temp)\n",
    "A = state(source, 0)\n"
   ]
  },
  {
   "cell_type": "code",
   "execution_count": 10,
   "metadata": {
    "ExecuteTime": {
     "end_time": "2019-03-22T19:08:12.331276Z",
     "start_time": "2019-03-22T19:08:12.325849Z"
    }
   },
   "outputs": [],
   "source": [
    "A.prepair()\n",
    "#done_states.add(str(source))\n",
    "visited_states.add(str(source))\n",
    "ALL_STATES.append(A)"
   ]
  },
  {
   "cell_type": "code",
   "execution_count": 11,
   "metadata": {
    "ExecuteTime": {
     "end_time": "2019-03-22T19:08:12.353353Z",
     "start_time": "2019-03-22T19:08:12.334822Z"
    },
    "scrolled": false
   },
   "outputs": [
    {
     "data": {
      "text/plain": [
       "array([[ 0,  0,  0,  0,  0],\n",
       "       [ 0, -1,  5,  3,  0],\n",
       "       [ 0,  8,  4,  1,  0],\n",
       "       [ 0,  2,  7,  6,  0],\n",
       "       [ 0,  0,  0,  0,  0]])"
      ]
     },
     "execution_count": 11,
     "metadata": {},
     "output_type": "execute_result"
    }
   ],
   "source": [
    "A.state_info"
   ]
  },
  {
   "cell_type": "code",
   "execution_count": 16,
   "metadata": {
    "ExecuteTime": {
     "end_time": "2019-03-22T19:08:12.403989Z",
     "start_time": "2019-03-22T19:08:12.391691Z"
    }
   },
   "outputs": [],
   "source": [
    "def popmin():\n",
    "    \n",
    "    cost= 1000000000\n",
    "    index = -1\n",
    "    for i in range(len(ALL_STATES)):\n",
    "        if ALL_STATES[i].cost < cost and str(ALL_STATES[i].state_info) not in done_states:\n",
    "            cost = ALL_STATES[i].cost\n",
    "            index = i\n",
    "            #print(cost,i)\n",
    "    temp = ALL_STATES[index]\n",
    "    \n",
    "    done_states.add(str(temp.state_info))\n",
    "    #visited_states.remove(str(temp.state_info))\n",
    "    return temp\n",
    "        "
   ]
  },
  {
   "cell_type": "code",
   "execution_count": 17,
   "metadata": {
    "ExecuteTime": {
     "end_time": "2019-03-22T19:08:12.414766Z",
     "start_time": "2019-03-22T19:08:12.407928Z"
    }
   },
   "outputs": [],
   "source": [
    "def print_state_in_fancy_way(A):\n",
    "    temp = (A[1:4,1:4])\n",
    "    for x in temp:\n",
    "        for y in x:\n",
    "            if(y==-1): print(\" \",end=' ')\n",
    "            else: print(y, end=' ')\n",
    "        print()\n",
    "        "
   ]
  },
  {
   "cell_type": "code",
   "execution_count": 18,
   "metadata": {
    "ExecuteTime": {
     "end_time": "2019-03-22T19:08:12.427660Z",
     "start_time": "2019-03-22T19:08:12.422089Z"
    }
   },
   "outputs": [
    {
     "name": "stdout",
     "output_type": "stream",
     "text": [
      "  5 3 \n",
      "8 4 1 \n",
      "2 7 6 \n"
     ]
    }
   ],
   "source": [
    "print_state_in_fancy_way(A.state_info)"
   ]
  },
  {
   "cell_type": "code",
   "execution_count": 19,
   "metadata": {
    "ExecuteTime": {
     "end_time": "2019-03-22T19:08:22.372697Z",
     "start_time": "2019-03-22T19:08:12.431922Z"
    }
   },
   "outputs": [
    {
     "name": "stdout",
     "output_type": "stream",
     "text": [
      "Actual Step Taken :-  20\n",
      "  5 3 \n",
      "8 4 1 \n",
      "2 7 6 \n",
      "------------------\n",
      "------------------\n",
      "5   3 \n",
      "8 4 1 \n",
      "2 7 6 \n",
      "------------------\n",
      "------------------\n",
      "5 4 3 \n",
      "8   1 \n",
      "2 7 6 \n",
      "------------------\n",
      "------------------\n",
      "5 4 3 \n",
      "  8 1 \n",
      "2 7 6 \n",
      "------------------\n",
      "------------------\n",
      "5 4 3 \n",
      "2 8 1 \n",
      "  7 6 \n",
      "------------------\n",
      "------------------\n",
      "5 4 3 \n",
      "2 8 1 \n",
      "7   6 \n",
      "------------------\n",
      "------------------\n",
      "5 4 3 \n",
      "2   1 \n",
      "7 8 6 \n",
      "------------------\n",
      "------------------\n",
      "5 4 3 \n",
      "  2 1 \n",
      "7 8 6 \n",
      "------------------\n",
      "------------------\n",
      "  4 3 \n",
      "5 2 1 \n",
      "7 8 6 \n",
      "------------------\n",
      "------------------\n",
      "4   3 \n",
      "5 2 1 \n",
      "7 8 6 \n",
      "------------------\n",
      "------------------\n",
      "4 2 3 \n",
      "5   1 \n",
      "7 8 6 \n",
      "------------------\n",
      "------------------\n",
      "4 2 3 \n",
      "5 1   \n",
      "7 8 6 \n",
      "------------------\n",
      "------------------\n",
      "4 2   \n",
      "5 1 3 \n",
      "7 8 6 \n",
      "------------------\n",
      "------------------\n",
      "4   2 \n",
      "5 1 3 \n",
      "7 8 6 \n",
      "------------------\n",
      "------------------\n",
      "4 1 2 \n",
      "5   3 \n",
      "7 8 6 \n",
      "------------------\n",
      "------------------\n",
      "4 1 2 \n",
      "  5 3 \n",
      "7 8 6 \n",
      "------------------\n",
      "------------------\n",
      "  1 2 \n",
      "4 5 3 \n",
      "7 8 6 \n",
      "------------------\n",
      "------------------\n",
      "1   2 \n",
      "4 5 3 \n",
      "7 8 6 \n",
      "------------------\n",
      "------------------\n",
      "1 2   \n",
      "4 5 3 \n",
      "7 8 6 \n",
      "------------------\n",
      "------------------\n",
      "1 2 3 \n",
      "4 5   \n",
      "7 8 6 \n",
      "------------------\n",
      "------------------\n",
      "1 2 3 \n",
      "4 5 6 \n",
      "7 8   \n",
      "------------------\n",
      "------------------\n"
     ]
    }
   ],
   "source": [
    "while(True):\n",
    "    a = popmin()\n",
    "    if a.checkGoal() == True:\n",
    "        print(\"Actual Step Taken :- \", a.cost)\n",
    "        ans = list()\n",
    "        while(a != 0):\n",
    "            #print(a.state_info)\n",
    "            ans.append(a.state_info)\n",
    "            #print(\"--------------------------------------\")\n",
    "            a= a.parent\n",
    "        ans = reversed(ans)\n",
    "    \n",
    "        for x in ans:\n",
    "            print_state_in_fancy_way(x)\n",
    "            print(\"------------------\\n------------------\")\n",
    "        break\n",
    "    else:\n",
    "        a.expand()"
   ]
  },
  {
   "cell_type": "code",
   "execution_count": 21,
   "metadata": {
    "ExecuteTime": {
     "end_time": "2019-03-22T19:10:39.471272Z",
     "start_time": "2019-03-22T19:10:39.454479Z"
    }
   },
   "outputs": [
    {
     "data": {
      "text/plain": [
       "817"
      ]
     },
     "execution_count": 21,
     "metadata": {},
     "output_type": "execute_result"
    }
   ],
   "source": [
    "print(\"Node Expanded:\" ,len(ALL_STATES))"
   ]
  },
  {
   "cell_type": "code",
   "execution_count": 22,
   "metadata": {
    "ExecuteTime": {
     "end_time": "2019-03-22T19:11:38.654046Z",
     "start_time": "2019-03-22T19:11:38.641040Z"
    }
   },
   "outputs": [
    {
     "data": {
      "text/plain": [
       "516"
      ]
     },
     "execution_count": 22,
     "metadata": {},
     "output_type": "execute_result"
    }
   ],
   "source": [
    "len(done_states)"
   ]
  },
  {
   "cell_type": "code",
   "execution_count": 23,
   "metadata": {
    "ExecuteTime": {
     "end_time": "2019-03-22T19:11:43.862872Z",
     "start_time": "2019-03-22T19:11:43.847442Z"
    }
   },
   "outputs": [
    {
     "data": {
      "text/plain": [
       "817"
      ]
     },
     "execution_count": 23,
     "metadata": {},
     "output_type": "execute_result"
    }
   ],
   "source": [
    "len(visited_states)"
   ]
  },
  {
   "cell_type": "code",
   "execution_count": null,
   "metadata": {},
   "outputs": [],
   "source": []
  }
 ],
 "metadata": {
  "kernelspec": {
   "display_name": "Python 3",
   "language": "python",
   "name": "python3"
  },
  "language_info": {
   "codemirror_mode": {
    "name": "ipython",
    "version": 3
   },
   "file_extension": ".py",
   "mimetype": "text/x-python",
   "name": "python",
   "nbconvert_exporter": "python",
   "pygments_lexer": "ipython3",
   "version": "3.6.7"
  },
  "toc": {
   "base_numbering": 1,
   "nav_menu": {},
   "number_sections": true,
   "sideBar": true,
   "skip_h1_title": false,
   "title_cell": "Table of Contents",
   "title_sidebar": "Contents",
   "toc_cell": false,
   "toc_position": {},
   "toc_section_display": true,
   "toc_window_display": false
  },
  "varInspector": {
   "cols": {
    "lenName": 16,
    "lenType": 16,
    "lenVar": 40
   },
   "kernels_config": {
    "python": {
     "delete_cmd_postfix": "",
     "delete_cmd_prefix": "del ",
     "library": "var_list.py",
     "varRefreshCmd": "print(var_dic_list())"
    },
    "r": {
     "delete_cmd_postfix": ") ",
     "delete_cmd_prefix": "rm(",
     "library": "var_list.r",
     "varRefreshCmd": "cat(var_dic_list()) "
    }
   },
   "types_to_exclude": [
    "module",
    "function",
    "builtin_function_or_method",
    "instance",
    "_Feature"
   ],
   "window_display": false
  }
 },
 "nbformat": 4,
 "nbformat_minor": 2
}
